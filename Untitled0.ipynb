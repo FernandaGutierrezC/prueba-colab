{
  "nbformat": 4,
  "nbformat_minor": 0,
  "metadata": {
    "colab": {
      "provenance": [],
      "authorship_tag": "ABX9TyPJaKBse3nxTAUehYwjcoEg",
      "include_colab_link": true
    },
    "kernelspec": {
      "name": "python3",
      "display_name": "Python 3"
    },
    "language_info": {
      "name": "python"
    }
  },
  "cells": [
    {
      "cell_type": "markdown",
      "metadata": {
        "id": "view-in-github",
        "colab_type": "text"
      },
      "source": [
        "<a href=\"https://colab.research.google.com/github/FernandaGutierrezC/prueba-colab/blob/main/Untitled0.ipynb\" target=\"_parent\"><img src=\"https://colab.research.google.com/assets/colab-badge.svg\" alt=\"Open In Colab\"/></a>"
      ]
    },
    {
      "cell_type": "code",
      "execution_count": 3,
      "metadata": {
        "colab": {
          "base_uri": "https://localhost:8080/"
        },
        "id": "V6fgfPZr855z",
        "outputId": "f0069e9f-48fd-4b5f-e808-470ff740d277"
      },
      "outputs": [
        {
          "output_type": "stream",
          "name": "stdout",
          "text": [
            "hello world\n",
            "Ingresar num3\n",
            "Ingresar num4\n",
            "7\n"
          ]
        }
      ],
      "source": [
        "print('hello world')\n",
        "n1=input('Ingresar num')\n",
        "n2=input('Ingresar num')\n",
        "suma = int(str(n1)) + int(str(n2))\n",
        "print(suma)"
      ]
    }
  ]
}